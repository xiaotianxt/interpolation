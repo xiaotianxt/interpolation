{
 "cells": [
  {
   "cell_type": "code",
   "execution_count": 2,
   "metadata": {},
   "outputs": [],
   "source": [
    "import json\n",
    "items = json.load(open('./pasted.json', 'r'))\n",
    "\n",
    "fs = []\n",
    "for f in items['features']:\n",
    "    x = f['properties']['x']\n",
    "    y = f['properties']['y']\n",
    "    z = f['properties']['z']\n",
    "\n",
    "    point_feature = {\n",
    "        \"type\": \"Feature\",\n",
    "        \"geometry\": {\n",
    "            \"type\": \"Point\",\n",
    "            \"coordinates\": [x,y]\n",
    "        },\n",
    "        \"properties\": {\n",
    "            \"z\": z\n",
    "        }\n",
    "    }\n",
    "    fs.append(point_feature)\n",
    "\n",
    "items['features'] = fs\n",
    "\n",
    "with open('./pasted.geojson', 'w') as f:\n",
    "    json.dump(items, f)\n"
   ]
  }
 ],
 "metadata": {
  "kernelspec": {
   "display_name": "Python 3",
   "language": "python",
   "name": "python3"
  },
  "language_info": {
   "codemirror_mode": {
    "name": "ipython",
    "version": 3
   },
   "file_extension": ".py",
   "mimetype": "text/x-python",
   "name": "python",
   "nbconvert_exporter": "python",
   "pygments_lexer": "ipython3",
   "version": "3.10.9"
  },
  "orig_nbformat": 4
 },
 "nbformat": 4,
 "nbformat_minor": 2
}
